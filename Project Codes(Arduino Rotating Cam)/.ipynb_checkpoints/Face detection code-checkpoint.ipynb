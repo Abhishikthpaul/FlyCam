{
 "cells": [
  {
   "cell_type": "code",
   "execution_count": null,
   "id": "80dde19a",
   "metadata": {},
   "outputs": [],
   "source": [
    "pip install opencv-python"
   ]
  },
  {
   "cell_type": "code",
   "execution_count": null,
   "id": "2af11a2e",
   "metadata": {},
   "outputs": [],
   "source": [
    "pip install pyserial"
   ]
  },
  {
   "cell_type": "code",
   "execution_count": null,
   "id": "33047f8f",
   "metadata": {},
   "outputs": [],
   "source": [
    "#Face tracker using OpenCV and Arduino\n",
    "\n",
    "import cv2\n",
    "import serial,time\n",
    "face_cascade= cv2.CascadeClassifier('haarcascade_frontalface_default.xml')\n",
    "cap=cv2.VideoCapture(1)\n",
    "#fourcc= cv2.VideoWriter_fourcc(*'XVID')\n",
    "ArduinoSerial=serial.Serial('COM5',9600,timeout=0.1)\n",
    "#out= cv2.VideoWriter('face detection4.avi',fourcc,20.0,(640,480))\n",
    "time.sleep(1)\n",
    "\n",
    "while cap.isOpened():\n",
    "    ret, frame= cap.read()\n",
    "    frame=cv2.flip(frame,1)  #mirror the image\n",
    "    #print(frame.shape)\n",
    "    gray = cv2.cvtColor(frame,cv2.COLOR_BGR2GRAY)\n",
    "    faces= face_cascade.detectMultiScale(gray,1.1,6)  #detect the face\n",
    "    for x,y,w,h in faces:\n",
    "        #sending coordinates to Arduino\n",
    "        string='X{0:d}Y{1:d}'.format((x+w//2),(y+h//2))\n",
    "        print(string)\n",
    "        ArduinoSerial.write(string.encode('utf-8'))\n",
    "        #plot the center of the face\n",
    "        cv2.circle(frame,(x+w//2,y+h//2),2,(0,255,0),2)\n",
    "        #plot the roi\n",
    "        cv2.rectangle(frame,(x,y),(x+w,y+h),(0,0,255),3)\n",
    "    #plot the squared region in the center of the screen\n",
    "    cv2.rectangle(frame,(640//2-30,480//2-30),\n",
    "                 (640//2+30,480//2+30),\n",
    "                  (255,255,255),3)\n",
    "    #out.write(frame)\n",
    "    cv2.imshow('img',frame)\n",
    "    #cv2.imwrite('output_img.jpg',frame)\n",
    "    '''for testing purpose\n",
    "    read= str(ArduinoSerial.readline(ArduinoSerial.inWaiting()))\n",
    "    time.sleep(0.05)\n",
    "    print('data from arduino:'+read)\n",
    "    '''\n",
    "    # press q to Quit\n",
    "    if cv2.waitKey(10)&0xFF== ord('q'):\n",
    "        break\n",
    "cap.release()\n",
    "cv2.destroyAllWindows()"
   ]
  },
  {
   "cell_type": "code",
   "execution_count": null,
   "id": "39ba9fee",
   "metadata": {},
   "outputs": [],
   "source": []
  },
  {
   "cell_type": "code",
   "execution_count": null,
   "id": "209a98e6",
   "metadata": {},
   "outputs": [],
   "source": []
  }
 ],
 "metadata": {
  "kernelspec": {
   "display_name": "Python 3 (ipykernel)",
   "language": "python",
   "name": "python3"
  },
  "language_info": {
   "codemirror_mode": {
    "name": "ipython",
    "version": 3
   },
   "file_extension": ".py",
   "mimetype": "text/x-python",
   "name": "python",
   "nbconvert_exporter": "python",
   "pygments_lexer": "ipython3",
   "version": "3.10.5"
  }
 },
 "nbformat": 4,
 "nbformat_minor": 5
}
